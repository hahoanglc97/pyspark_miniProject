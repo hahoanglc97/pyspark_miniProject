{
 "cells": [
  {
   "cell_type": "code",
   "execution_count": null,
   "id": "a4c3011b",
   "metadata": {},
   "outputs": [],
   "source": [
    "from pyspark.sql import SparkSession\n",
    "from pyspark.ml.recommendation import ALS\n",
    "from pyspark.ml.evaluation import RegressionEvaluator\n",
    "from pyspark.ml.tuning import ParamGridBuilder, CrossValidator\n",
    "from pyspark.sql.functions import col,explode\n",
    "spark = SparkSession.builder.appName('Collaborative filtering').getOrCreate()"
   ]
  },
  {
   "cell_type": "code",
   "execution_count": null,
   "id": "8ad86599",
   "metadata": {},
   "outputs": [],
   "source": [
    "movies_df = spark.read.options(header='True', inferSchema='True').csv('data/movies.csv')\n",
    "ratings_df = spark.read.options(header='True', inferSchema='True').csv('data/ratings.csv')\n",
    "\n",
    "movies_df.show(5)\n",
    "ratings_df.show(5)"
   ]
  },
  {
   "cell_type": "code",
   "execution_count": null,
   "id": "6da38ffa",
   "metadata": {},
   "outputs": [],
   "source": [
    "# Joining data\n",
    "ratings = ratings_df.join(movies_df, 'movieId', 'left')"
   ]
  },
  {
   "cell_type": "code",
   "execution_count": null,
   "id": "1acd71dd",
   "metadata": {},
   "outputs": [],
   "source": [
    "# Split data\n",
    "(train, test) = ratings.randomSplit([0.8, 0.2])"
   ]
  },
  {
   "cell_type": "code",
   "execution_count": null,
   "id": "e768bc07",
   "metadata": {},
   "outputs": [],
   "source": [
    "# ALS model\n",
    "from pyspark.ml.recommendation import ALS\n",
    "als = ALS(userCol=\"userId\", itemCol=\"movieId\", ratingCol=\"rating\",\\\n",
    "     nonnegative=True, implicitPrefs=False, coldStartStrategy=\"drop\")"
   ]
  },
  {
   "cell_type": "code",
   "execution_count": null,
   "id": "ba7a159e",
   "metadata": {},
   "outputs": [],
   "source": [
    "# Hyperparameter tuning and cross validation\n",
    "\n",
    "param_grid = ParamGridBuilder() \\\n",
    "            .addGrid(als.rank, [10, 50, 100, 150]) \\\n",
    "            .addGrid(als.regParam, [.01, .05, .1, .15]) \\\n",
    "            .build()\n",
    "\n",
    "evaluator = RegressionEvaluator(\n",
    "           metricName=\"rmse\", \n",
    "           labelCol=\"rating\", \n",
    "           predictionCol=\"prediction\")\n",
    "\n",
    "cv = CrossValidator(estimator=als, estimatorParamMaps=param_grid, evaluator=evaluator, numFolds=5)\n"
   ]
  },
  {
   "cell_type": "code",
   "execution_count": null,
   "id": "8ec4e9d4",
   "metadata": {},
   "outputs": [],
   "source": [
    "model = cv.fit(train)\n",
    "best_model = model.bestModel\n",
    "test_predictions = best_model.transform(test)\n",
    "RMSE = evaluator.evaluate(test_predictions)\n",
    "print(RMSE)"
   ]
  },
  {
   "cell_type": "code",
   "execution_count": null,
   "id": "df47d5e3",
   "metadata": {},
   "outputs": [],
   "source": [
    "recommendations = best_model.recommendForAllUsers(5)"
   ]
  },
  {
   "cell_type": "code",
   "execution_count": null,
   "id": "a98377d2",
   "metadata": {},
   "outputs": [],
   "source": [
    "recommendations.show(5)"
   ]
  },
  {
   "cell_type": "code",
   "execution_count": null,
   "id": "504d3ede",
   "metadata": {},
   "outputs": [],
   "source": [
    "df2 = recommendations.withColumn(\"movieid_rating\", explode(\"recommendations\"))"
   ]
  },
  {
   "cell_type": "code",
   "execution_count": null,
   "id": "eb7c2789",
   "metadata": {},
   "outputs": [],
   "source": [
    "df2.select(\"userId\", col(\"movieid_rating.movieId\"), col(\"movieid_rating.rating\")).show(5)"
   ]
  },
  {
   "cell_type": "code",
   "execution_count": null,
   "id": "dc7be605",
   "metadata": {},
   "outputs": [],
   "source": []
  }
 ],
 "metadata": {
  "kernelspec": {
   "display_name": "Python 3 (ipykernel)",
   "language": "python",
   "name": "python3"
  },
  "language_info": {
   "codemirror_mode": {
    "name": "ipython",
    "version": 3
   },
   "file_extension": ".py",
   "mimetype": "text/x-python",
   "name": "python",
   "nbconvert_exporter": "python",
   "pygments_lexer": "ipython3",
   "version": "3.9.2"
  }
 },
 "nbformat": 4,
 "nbformat_minor": 5
}
