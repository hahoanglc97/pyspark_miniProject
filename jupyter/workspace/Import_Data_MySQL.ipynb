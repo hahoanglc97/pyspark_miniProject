{
 "cells": [
  {
   "cell_type": "markdown",
   "metadata": {},
   "source": [
    "#### Covert file .dat to csv"
   ]
  },
  {
   "cell_type": "code",
   "execution_count": 14,
   "metadata": {},
   "outputs": [],
   "source": [
    "import csv\n",
    "\n",
    "# read flash.dat to a list of lists\n",
    "datMovies = [i.strip().split('::') for i in open(\"./data/ml-1m/movies.dat\", encoding=\"latin-1\").readlines()]\n",
    "datRatings = [i.strip().split('::') for i in open(\"./data/ml-1m/ratings.dat\", encoding=\"latin-1\").readlines()]\n",
    "fieldsRatings = ['UserID', 'MovieID', 'Rating', 'Timestamp'] \n",
    "fieldsMovies = ['MovieID', 'Title', 'Genres'] \n",
    "\n",
    "# write it as a new CSV file\n",
    "with open(\"./data/ml-1m/movies.csv\", \"w\") as f:\n",
    "    writer = csv.writer(f)\n",
    "    writer.writerow(fieldsMovies)\n",
    "    writer.writerows(datMovies)\n",
    "\n",
    "with open(\"./data/ml-1m//ratings.csv\", \"w\") as f:\n",
    "    writer = csv.writer(f)\n",
    "    writer.writerow(fieldsRatings)\n",
    "    writer.writerows(datRatings)"
   ]
  },
  {
   "cell_type": "markdown",
   "metadata": {},
   "source": [
    "#### Read file csv"
   ]
  },
  {
   "cell_type": "code",
   "execution_count": 103,
   "metadata": {},
   "outputs": [],
   "source": [
    "import pandas as pd\n",
    "dfMovies = pd.read_csv(\"./data/ml-1m/movies.csv\",sep=\",\", encoding=\"latin1\", engine='python')\n",
    "dfRatings = pd.read_csv(\"./data/ml-1m/ratings.csv\",sep=\",\", encoding=\"latin1\", engine='python')\n"
   ]
  },
  {
   "cell_type": "markdown",
   "metadata": {},
   "source": [
    "#### Connect Mysql"
   ]
  },
  {
   "cell_type": "code",
   "execution_count": 2,
   "metadata": {},
   "outputs": [],
   "source": [
    "import mysql.connector\n",
    "\n",
    "db_connection = mysql.connector.connect(\n",
    "    host='10.10.0.100',\n",
    "    user=\"root\",\n",
    "    password=\"1\",\n",
    "    database=\"MovieLens\")\n",
    "db_cursor = db_connection.cursor()\n",
    "# db_cursor.execute(\"CREATE DATABASE MovieLens;\")\n",
    "# db_cursor.execute(\"USE MovieLens;\")\n"
   ]
  },
  {
   "cell_type": "markdown",
   "metadata": {},
   "source": [
    "- create table"
   ]
  },
  {
   "cell_type": "code",
   "execution_count": 107,
   "metadata": {},
   "outputs": [],
   "source": [
    "db_cursor.execute(\"CREATE TABLE movies \\\n",
    "    (MovieID INT AUTO_INCREMENT PRIMARY KEY,\\\n",
    "    Title VARCHAR(255),\\\n",
    "    Genres VARCHAR(255))\")\n",
    "\n",
    "db_cursor.execute(\"CREATE TABLE ratings (\\\n",
    "    ID INT AUTO_INCREMENT PRIMARY KEY, \\\n",
    "    UserID INT, \\\n",
    "    MovieID int, Rating int NOT NULL, \\\n",
    "    Timestamp int NOT NULL)\")"
   ]
  },
  {
   "cell_type": "markdown",
   "metadata": {},
   "source": [
    "#### Insert data movies"
   ]
  },
  {
   "cell_type": "code",
   "execution_count": 108,
   "metadata": {},
   "outputs": [],
   "source": [
    "dfMovies = dfMovies.drop(['MovieID'], axis=1)"
   ]
  },
  {
   "cell_type": "code",
   "execution_count": 110,
   "metadata": {},
   "outputs": [],
   "source": [
    "dataInsertMovies = ''\n",
    "\n",
    "for i in dfMovies.index:\n",
    "    if(i == len(dfMovies)-1):\n",
    "        dataInsertMovies += '(\"' + dfMovies.loc[i]['Title'] + '\" , \"' + dfMovies.loc[i]['Genres'] +'\") '\n",
    "    else:\n",
    "        dataInsertMovies += '(\"' + dfMovies.loc[i]['Title'] + '\" , \"' + dfMovies.loc[i]['Genres'] +'\"), '\n"
   ]
  },
  {
   "cell_type": "code",
   "execution_count": 111,
   "metadata": {},
   "outputs": [],
   "source": [
    "db_cursor.execute(\"INSERT INTO movies (Title, Genres) \\\n",
    "VALUES \" + dataInsertMovies + \";\")"
   ]
  },
  {
   "cell_type": "code",
   "execution_count": 112,
   "metadata": {},
   "outputs": [],
   "source": [
    "db_connection.commit()"
   ]
  },
  {
   "cell_type": "markdown",
   "metadata": {},
   "source": [
    "#### Insert data ratings"
   ]
  },
  {
   "cell_type": "code",
   "execution_count": 113,
   "metadata": {},
   "outputs": [],
   "source": [
    "dataInsertRatings = ''\n",
    "\n",
    "for i in dfRatings.index:\n",
    "    if(i == len(dfRatings)-1):\n",
    "        dataInsertRatings += '(\"' + str(dfRatings.loc[i]['UserID']) + '\" , \"' \\\n",
    "                                 + str(dfRatings.loc[i]['MovieID']) + '\" , \"' \\\n",
    "                                 + str(dfRatings.loc[i]['Rating']) + '\" , \"' \\\n",
    "                                 + str(dfRatings.loc[i]['Timestamp']) +'\") '\n",
    "    else:\n",
    "        dataInsertRatings += '(\"' + str(dfRatings.loc[i]['UserID']) + '\" , \"' \\\n",
    "                                 + str(dfRatings.loc[i]['MovieID']) + '\" , \"' \\\n",
    "                                 + str(dfRatings.loc[i]['Rating']) + '\" , \"' \\\n",
    "                                 + str(dfRatings.loc[i]['Timestamp']) +'\"), '"
   ]
  },
  {
   "cell_type": "code",
   "execution_count": 114,
   "metadata": {},
   "outputs": [],
   "source": [
    "db_cursor.execute(\"INSERT INTO ratings (UserID, MovieID, Rating, Timestamp) \\\n",
    "VALUES \" + dataInsertRatings + \";\")\n",
    "# db_connection.commit()\n"
   ]
  },
  {
   "cell_type": "code",
   "execution_count": 115,
   "metadata": {},
   "outputs": [],
   "source": [
    "db_connection.commit()"
   ]
  }
 ],
 "metadata": {
  "kernelspec": {
   "display_name": "Python 3 (ipykernel)",
   "language": "python",
   "name": "python3"
  },
  "language_info": {
   "codemirror_mode": {
    "name": "ipython",
    "version": 3
   },
   "file_extension": ".py",
   "mimetype": "text/x-python",
   "name": "python",
   "nbconvert_exporter": "python",
   "pygments_lexer": "ipython3",
   "version": "3.9.2"
  },
  "vscode": {
   "interpreter": {
    "hash": "ea3e8218f70b402d2257f20f2a4ce6176f8288172920bdaf6d4a41a7262d77be"
   }
  }
 },
 "nbformat": 4,
 "nbformat_minor": 4
}
