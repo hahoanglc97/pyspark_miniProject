{
 "cells": [
  {
   "cell_type": "markdown",
   "metadata": {},
   "source": [
    "## Mini Project\n",
    "#### Perform the following analytics on the data\n",
    "- Show the number of students in the file.\n",
    "- Show the total marks achieved by Female and Male students\n",
    "- Show the total number of students that have passed and failed. 50+ marks are required to pass the course.\n",
    "- Show the total number of students enrolled per course\n",
    "- Show the total marks that students have achieved per course\n",
    "- Show the average marks that students have achieved per course\n",
    "- Show the minimum and maximum marks achieved per course\n",
    "- Show the average age of male and female students"
   ]
  },
  {
   "cell_type": "code",
   "execution_count": null,
   "metadata": {},
   "outputs": [],
   "source": [
    "from pyspark import SparkConf, SparkContext\n",
    "conf = SparkConf().setAppName('Student Project').set(\"spark.ui.port\", \"8081\")\n",
    "sc = SparkContext.getOrCreate(conf=conf)\n",
    "# transformation read the file\n",
    "rdd = sc.textFile('data/StudentData.csv')"
   ]
  },
  {
   "cell_type": "markdown",
   "metadata": {},
   "source": [
    "## number of students"
   ]
  },
  {
   "cell_type": "code",
   "execution_count": null,
   "metadata": {},
   "outputs": [],
   "source": [
    "header = rdd.first()\n",
    "rdd.filter(lambda x: x != header).count()"
   ]
  },
  {
   "cell_type": "code",
   "execution_count": null,
   "metadata": {},
   "outputs": [],
   "source": [
    "rdd = rdd.filter(lambda x: x != header).map(lambda x: x.split(','))"
   ]
  },
  {
   "cell_type": "markdown",
   "metadata": {},
   "source": [
    "## total marks achieved by Female and Male students"
   ]
  },
  {
   "cell_type": "code",
   "execution_count": null,
   "metadata": {},
   "outputs": [],
   "source": [
    "rdd1 = rdd\n",
    "rdd2 = rdd1.map(lambda x: [x[1], int(x[5])])\n",
    "rdd3 = rdd2.reduceByKey(lambda x, y: x+y)\n",
    "rdd3.collect()"
   ]
  },
  {
   "cell_type": "markdown",
   "metadata": {},
   "source": [
    "## total number of students that have passed and failed"
   ]
  },
  {
   "cell_type": "code",
   "execution_count": null,
   "metadata": {},
   "outputs": [],
   "source": [
    "rdd1 = rdd\n",
    "rdd2 = rdd1.map(lambda x: int(x[5]))\n",
    "rdd3 = rdd2.filter(lambda x: x > 50 ).count()\n",
    "rdd4 = rdd1.count() - rdd3\n",
    "rdd3, rdd4"
   ]
  },
  {
   "cell_type": "markdown",
   "metadata": {},
   "source": [
    "## total number of students enrolled per course"
   ]
  },
  {
   "cell_type": "code",
   "execution_count": null,
   "metadata": {},
   "outputs": [],
   "source": [
    "rdd1 = rdd\n",
    "rdd2 = rdd1.map(lambda x: [x[3], 1])\n",
    "rdd3 = rdd2.reduceByKey(lambda x, y: x + y)\n",
    "rdd3.collect()"
   ]
  },
  {
   "cell_type": "markdown",
   "metadata": {},
   "source": [
    "## total marks that students have achieved per course"
   ]
  },
  {
   "cell_type": "code",
   "execution_count": null,
   "metadata": {},
   "outputs": [],
   "source": [
    "rdd1 = rdd\n",
    "rdd2 = rdd1.map(lambda x: [x[3], int(x[5])])\n",
    "rdd3 = rdd2.reduceByKey(lambda x, y: x + y)\n",
    "rdd3.collect()"
   ]
  },
  {
   "cell_type": "markdown",
   "metadata": {},
   "source": [
    "## average marks that students have achieved per course"
   ]
  },
  {
   "cell_type": "code",
   "execution_count": null,
   "metadata": {},
   "outputs": [],
   "source": [
    "rdd1 = rdd\n",
    "rdd2 = rdd1.map(lambda x: [x[3], (int(x[5]), 1)])\n",
    "rdd3 = rdd2.reduceByKey(lambda x, y: (x[0] + y[0], x[1] + y[1]))\n",
    "rdd4 = rdd3.mapValues(lambda x: x[0]/x[1])\n",
    "rdd4.collect()"
   ]
  },
  {
   "cell_type": "markdown",
   "metadata": {},
   "source": [
    "## minimum and maximum marks achieved per course"
   ]
  },
  {
   "cell_type": "code",
   "execution_count": null,
   "metadata": {},
   "outputs": [],
   "source": [
    "rdd1 = rdd\n",
    "rdd2 = rdd1.map(lambda x: [x[3], int(x[5])])\n",
    "rdd3 = rdd2.reduceByKey(lambda x, y: x if x > y else y)\n",
    "rdd3.collect()"
   ]
  },
  {
   "cell_type": "code",
   "execution_count": null,
   "metadata": {},
   "outputs": [],
   "source": [
    "rdd4 = rdd2.reduceByKey(lambda x, y: x if x < y else y)\n",
    "rdd4.collect()"
   ]
  },
  {
   "cell_type": "markdown",
   "metadata": {},
   "source": [
    "## average age of male and female students"
   ]
  },
  {
   "cell_type": "code",
   "execution_count": null,
   "metadata": {},
   "outputs": [],
   "source": [
    "rdd1 = rdd\n",
    "rdd2 = rdd1.map(lambda x: [x[1], (int(x[0]), 1)])\n",
    "rdd3 = rdd2.reduceByKey(lambda x, y: (x[0]+y[0], x[1]+y[1]))\n",
    "rdd4 = rdd3.mapValues(lambda x: x[0]/x[1])\n",
    "rdd4.collect()"
   ]
  }
 ],
 "metadata": {
  "kernelspec": {
   "display_name": "Python 3 (ipykernel)",
   "language": "python",
   "name": "python3"
  },
  "language_info": {
   "codemirror_mode": {
    "name": "ipython",
    "version": 3
   },
   "file_extension": ".py",
   "mimetype": "text/x-python",
   "name": "python",
   "nbconvert_exporter": "python",
   "pygments_lexer": "ipython3",
   "version": "3.9.2"
  }
 },
 "nbformat": 4,
 "nbformat_minor": 4
}
