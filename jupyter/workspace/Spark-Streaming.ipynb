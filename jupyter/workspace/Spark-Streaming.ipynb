{
 "cells": [
  {
   "cell_type": "markdown",
   "id": "64fc2bdb",
   "metadata": {},
   "source": [
    "### Spark Streaming with RDD"
   ]
  },
  {
   "cell_type": "code",
   "execution_count": null,
   "id": "be1bd1c5",
   "metadata": {},
   "outputs": [],
   "source": [
    "from pyspark.streaming import StreamingContext \n",
    "from pyspark import SparkConf, SparkContext\n",
    "\n",
    "conf = SparkConf().setAppName(\"Streaming\")\n",
    "sc = SparkContext.getOrCreate (conf=conf)\n",
    "\n",
    "ssc = StreamingContext(sc, 1)"
   ]
  },
  {
   "cell_type": "code",
   "execution_count": null,
   "id": "3ba60242",
   "metadata": {},
   "outputs": [],
   "source": [
    "rdd = ssc.textFileStream(\"data/stream/\")\n",
    "\n",
    "rdd = rdd.map(lambda x: (x,1))\n",
    "rdd = rdd.reduceByKey(lambda x,y : x+y)\n",
    "rdd.pprint()\n",
    "ssc.start()\n",
    "ssc.awaitTerminationOrTimeout(10)\n",
    "ssc.stop()"
   ]
  },
  {
   "cell_type": "markdown",
   "id": "de136a8d",
   "metadata": {},
   "source": [
    "### Spark Streaming with DFs"
   ]
  },
  {
   "cell_type": "code",
   "execution_count": null,
   "id": "b946f06c",
   "metadata": {},
   "outputs": [],
   "source": [
    "from pyspark.sql import SparkSession"
   ]
  },
  {
   "cell_type": "code",
   "execution_count": null,
   "id": "cb577f69",
   "metadata": {},
   "outputs": [],
   "source": [
    "spark = SparkSession.builder.appName(\"Sparking Streaming DF\").getOrCreate()\n",
    "word = spark.readStream.text(\"data/stream\")\n",
    "word = word.groupBy(\"value\").count()"
   ]
  },
  {
   "cell_type": "code",
   "execution_count": null,
   "id": "1ad400df",
   "metadata": {},
   "outputs": [],
   "source": [
    "word.writeStream.format(\"console\").outputMode(\"complete\").start()"
   ]
  },
  {
   "cell_type": "code",
   "execution_count": null,
   "id": "2f8af962",
   "metadata": {},
   "outputs": [],
   "source": []
  }
 ],
 "metadata": {
  "kernelspec": {
   "display_name": "Python 3 (ipykernel)",
   "language": "python",
   "name": "python3"
  },
  "language_info": {
   "codemirror_mode": {
    "name": "ipython",
    "version": 3
   },
   "file_extension": ".py",
   "mimetype": "text/x-python",
   "name": "python",
   "nbconvert_exporter": "python",
   "pygments_lexer": "ipython3",
   "version": "3.9.2"
  }
 },
 "nbformat": 4,
 "nbformat_minor": 5
}
