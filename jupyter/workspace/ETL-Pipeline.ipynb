{
 "cells": [
  {
   "attachments": {},
   "cell_type": "markdown",
   "id": "349962f7",
   "metadata": {},
   "source": [
    "### Extract"
   ]
  },
  {
   "cell_type": "code",
   "execution_count": 1,
   "id": "6a856af1",
   "metadata": {},
   "outputs": [],
   "source": [
    "from pyspark.sql import SparkSession\n",
    "from pyspark.sql.functions import lit, col, explode\n",
    "import pyspark.sql.functions as f"
   ]
  },
  {
   "cell_type": "code",
   "execution_count": 2,
   "id": "22c4d250",
   "metadata": {},
   "outputs": [
    {
     "name": "stderr",
     "output_type": "stream",
     "text": [
      "23/05/30 07:23:45 WARN NativeCodeLoader: Unable to load native-hadoop library for your platform... using builtin-java classes where applicable\n",
      "Using Spark's default log4j profile: org/apache/spark/log4j-defaults.properties\n",
      "Setting default log level to \"WARN\".\n",
      "To adjust logging level use sc.setLogLevel{newLevel). For SparkR, use setLogLevel{newLevel).\n"
     ]
    },
    {
     "name": "stdout",
     "output_type": "stream",
     "text": [
      "+--------------------+\n",
      "|               value|\n",
      "+--------------------+\n",
      "|This is a Japanes...|\n",
      "|The team members ...|\n",
      "|As the years pass...|\n",
      "|If you don't like...|\n",
      "|He was disappoint...|\n",
      "+--------------------+\n",
      "only showing top 5 rows\n",
      "\n"
     ]
    },
    {
     "name": "stderr",
     "output_type": "stream",
     "text": [
      "                                                                                \r"
     ]
    }
   ],
   "source": [
    "spark = SparkSession.builder\\\n",
    ".appName('ETL Pipeline')\\\n",
    ".config(\"spark.driver.extraClassPath\", \"/share_folder/postgresql-42.6.0.jar\")\\\n",
    ".config(\"spark.executor.memory\", \"1g\")\\\n",
    ".getOrCreate()\n",
    "df = spark.read.text('data/WordData_etl.txt')\n",
    "df.show(5)"
   ]
  },
  {
   "attachments": {},
   "cell_type": "markdown",
   "id": "39803977",
   "metadata": {},
   "source": [
    "### Transforming"
   ]
  },
  {
   "cell_type": "code",
   "execution_count": 3,
   "id": "64379756",
   "metadata": {},
   "outputs": [],
   "source": [
    "df2 = df.withColumn(\"splitedData\", f.split(\"value\",\" \"))"
   ]
  },
  {
   "cell_type": "code",
   "execution_count": 4,
   "id": "74cbc751",
   "metadata": {},
   "outputs": [],
   "source": [
    "df3 = df2.withColumn(\"words\", explode(\"splitedData\"))"
   ]
  },
  {
   "cell_type": "code",
   "execution_count": 5,
   "id": "3fdb673b",
   "metadata": {},
   "outputs": [
    {
     "name": "stdout",
     "output_type": "stream",
     "text": [
      "+-----------+-----+\n",
      "|      words|count|\n",
      "+-----------+-----+\n",
      "|   Tomorrow|    4|\n",
      "|         If|    8|\n",
      "|      leave|    4|\n",
      "|      corny|    4|\n",
      "|        day|    4|\n",
      "|preoccupied|    4|\n",
      "|       even|    8|\n",
      "|      crazy|    4|\n",
      "|    bananas|    4|\n",
      "|     priest|    4|\n",
      "|        did|    4|\n",
      "|    whether|    4|\n",
      "|     Having|    4|\n",
      "|        I'm|    4|\n",
      "|      crime|    4|\n",
      "|  surprised|    4|\n",
      "|      James|    4|\n",
      "|      could|    8|\n",
      "|        buy|    4|\n",
      "|        him|    8|\n",
      "+-----------+-----+\n",
      "only showing top 20 rows\n",
      "\n"
     ]
    }
   ],
   "source": [
    "wordsDF = df3.select(\"words\")\n",
    "wordCount = wordsDF.groupBy(\"words\").count()\n",
    "wordCount.show()"
   ]
  },
  {
   "attachments": {},
   "cell_type": "markdown",
   "id": "a0d6e8a6",
   "metadata": {},
   "source": [
    "### Loading"
   ]
  },
  {
   "cell_type": "code",
   "execution_count": 8,
   "id": "10decbce",
   "metadata": {},
   "outputs": [
    {
     "name": "stderr",
     "output_type": "stream",
     "text": [
      "                                                                                \r"
     ]
    }
   ],
   "source": [
    "driver = \"org.postgresql.Driver\"\n",
    "url = \"jdbc:postgresql://host.docker.internal:5432/spark\"\n",
    "table = \"word_count\"\n",
    "user = \"postgres\"\n",
    "password = \"1\"\n",
    "\n",
    "wordCount.write.format(\"jdbc\").\\\n",
    "option(\"driver\", driver).\\\n",
    "option(\"url\",url).\\\n",
    "option(\"dbtable\", table).\\\n",
    "option(\"mode\", \"append\").\\\n",
    "option(\"user\",user).\\\n",
    "option(\"password\", password).save()"
   ]
  },
  {
   "cell_type": "code",
   "execution_count": 9,
   "id": "ce8a289e",
   "metadata": {},
   "outputs": [],
   "source": [
    "df_read = spark.read.format(\"jdbc\").\\\n",
    "option(\"driver\", driver).\\\n",
    "option(\"url\",url).\\\n",
    "option(\"dbtable\", table).\\\n",
    "option(\"mode\", \"append\").\\\n",
    "option(\"user\",user).\\\n",
    "option(\"password\", password).load() "
   ]
  },
  {
   "cell_type": "code",
   "execution_count": 10,
   "id": "76e4041c",
   "metadata": {},
   "outputs": [
    {
     "name": "stdout",
     "output_type": "stream",
     "text": [
      "+---------+-----+\n",
      "|    words|count|\n",
      "+---------+-----+\n",
      "|surprised|    4|\n",
      "|     even|    8|\n",
      "|    James|    4|\n",
      "|    crazy|    4|\n",
      "|  bananas|    4|\n",
      "+---------+-----+\n",
      "only showing top 5 rows\n",
      "\n"
     ]
    }
   ],
   "source": [
    "df_read.show(5)"
   ]
  },
  {
   "cell_type": "code",
   "execution_count": null,
   "id": "9223f304",
   "metadata": {},
   "outputs": [],
   "source": []
  }
 ],
 "metadata": {
  "kernelspec": {
   "display_name": "Python 3 (ipykernel)",
   "language": "python",
   "name": "python3"
  },
  "language_info": {
   "codemirror_mode": {
    "name": "ipython",
    "version": 3
   },
   "file_extension": ".py",
   "mimetype": "text/x-python",
   "name": "python",
   "nbconvert_exporter": "python",
   "pygments_lexer": "ipython3",
   "version": "3.9.2"
  }
 },
 "nbformat": 4,
 "nbformat_minor": 5
}
