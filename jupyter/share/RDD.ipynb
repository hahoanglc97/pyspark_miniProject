{
    "cells": [
        {
            "cell_type": "code",
            "execution_count": null,
            "metadata": {},
            "outputs": [],
            "source": [
                "from pyspark import SparkConf, SparkContext\n",
                "conf = SparkConf{).setAppName{'Read File').set{\"spark.ui.port\", \"8080\")\n",
                "sc = SparkContext.getOrCreate{conf=conf)"
            ]
        },
        {
            "cell_type": "code",
            "execution_count": null,
            "metadata": {},
            "outputs": [],
            "source": [
                "# transformation read the file\n",
                "text = sc.textFile{'data/sample.txt')"
            ]
        },
        {
            "cell_type": "code",
            "execution_count": null,
            "metadata": {},
            "outputs": [],
            "source": [
                "# spark chua thuc su doc file sample ma chi cung cap mot so infor ve metadata\n",
                "text"
            ]
        },
        {
            "cell_type": "code",
            "execution_count": null,
            "metadata": {},
            "outputs": [],
            "source": [
                "# spark start processing transformation behind run action\n",
                "text.collect{)"
            ]
        }
    ],
    "metadata": {
        "language_info": {
            "name": "python"
        },
        "orig_nbformat": 4
    },
    "nbformat": 4,
    "nbformat_minor": 2
}